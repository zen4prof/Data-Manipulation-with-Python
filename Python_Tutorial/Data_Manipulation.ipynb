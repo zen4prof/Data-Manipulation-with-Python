{
 "cells": [
  {
   "cell_type": "code",
   "execution_count": 21,
   "metadata": {},
   "outputs": [
    {
     "name": "stdout",
     "output_type": "stream",
     "text": [
      "       ola1      ola2      ola3      ola4      ola5      ola6      ola7\n",
      "a -0.880920  0.423473 -0.599836  0.485977  0.604100  1.631817 -0.969800\n",
      "b       NaN       NaN       NaN       NaN       NaN       NaN       NaN\n",
      "c  0.381420  0.024597 -0.149072  0.978151  0.414071  0.798137  1.294862\n",
      "d       NaN       NaN       NaN       NaN       NaN       NaN       NaN\n",
      "e -0.270311  1.782473  0.112476  0.842709 -0.201322 -0.506435  0.700931\n",
      "f -0.132259 -0.925165 -0.403357  0.049749  0.826573  0.074607  0.441541\n",
      "g       NaN       NaN       NaN       NaN       NaN       NaN       NaN\n",
      "h -1.020876  0.673331  1.717331 -0.091291  0.467850  0.061608  0.900687\n",
      "i -1.014061  0.242080  0.350278  2.066142  1.345731 -0.048826  0.701202\n",
      "j -2.187992 -0.465177  0.788646 -1.191456  0.271841 -0.895301 -0.338096\n",
      "l -0.108556 -1.431661  1.028645  0.749899  1.118737 -0.810415  2.585120\n",
      "m  0.184348  2.205947 -1.037762 -0.168899 -1.485435  0.041194 -1.404024\n"
     ]
    }
   ],
   "source": [
    "import pandas as pd\n",
    "import numpy as np\n",
    "Tayo = pd.DataFrame(np.random.randn(10, 7), index=['a', 'c', 'e', 'f', 'h', 'i', 'j','k','l','m'], columns= ['ola1','ola2', 'ola3', 'ola4', 'ola5', 'ola6', 'ola7'])\n",
    "Tayo.rename(columns={\"one\":'ola1',\"two\":'ola2',\"three\":'ola3', \"four\":'ola4', \"five\":'ola5', \"six\":'ola6', \"seven\":'ola7'}, inplace=True)\n",
    "Tayo = Tayo.reindex(['a', 'b', 'c', 'd', 'e','f', 'g', 'h', 'i', 'j','l','m'])\n",
    "print (Tayo)"
   ]
  },
  {
   "cell_type": "code",
   "execution_count": 14,
   "metadata": {},
   "outputs": [
    {
     "data": {
      "text/plain": [
       "array([[-1.25586372, -0.02738459,  2.47093297,  1.30279011, -0.16824078,\n",
       "         2.21037445, -0.32627873],\n",
       "       [-0.44921569, -0.10582725,  0.8614458 ,  0.55034408,  1.4018484 ,\n",
       "         0.42422294,  1.0960756 ],\n",
       "       [ 1.27052555,  0.28912801, -0.99520346, -1.21060056, -0.0236273 ,\n",
       "        -0.12776704,  0.58896052],\n",
       "       [ 0.58971156, -0.66871691,  0.60912948,  0.09237621,  0.04250552,\n",
       "        -0.19697793, -0.97498227],\n",
       "       [-1.07460366, -1.02958707,  0.78682402,  0.80178551,  0.05685102,\n",
       "         0.98992497,  0.66713105],\n",
       "       [ 0.32239272, -0.48116958,  0.05101911,  0.475773  , -0.94243157,\n",
       "         1.53388628, -0.61881422],\n",
       "       [-0.0700349 , -1.01741514,  0.68059867, -0.96012244,  2.65283235,\n",
       "         1.27416267, -1.27929707],\n",
       "       [-1.48324611, -0.28551154,  0.73841248,  1.79374521, -0.74050249,\n",
       "        -0.11078021, -0.48317826],\n",
       "       [ 0.43426274, -0.76994299,  0.16692935,  0.60111876, -0.17001762,\n",
       "        -0.36026302, -0.81023721],\n",
       "       [ 0.2346343 , -1.27358521, -0.88489487,  1.87561117,  1.4970901 ,\n",
       "         0.44789331, -0.13241722]])"
      ]
     },
     "execution_count": 14,
     "metadata": {},
     "output_type": "execute_result"
    }
   ],
   "source": [
    "np.random.randn(10, 7)"
   ]
  },
  {
   "cell_type": "code",
   "execution_count": 17,
   "metadata": {},
   "outputs": [
    {
     "name": "stdout",
     "output_type": "stream",
     "text": [
      "a    False\n",
      "b     True\n",
      "c    False\n",
      "d     True\n",
      "e    False\n",
      "f    False\n",
      "g     True\n",
      "h    False\n",
      "i    False\n",
      "j    False\n",
      "l    False\n",
      "m    False\n",
      "Name: stock7, dtype: bool\n"
     ]
    }
   ],
   "source": [
    "print (Tayo['stock7'].isnull())"
   ]
  },
  {
   "cell_type": "code",
   "execution_count": 20,
   "metadata": {},
   "outputs": [
    {
     "name": "stdout",
     "output_type": "stream",
     "text": [
      "     stock1    stock2    stock3    stock4    stock5    stock6    stock7\n",
      "a -1.560256 -0.873521 -0.713303 -0.759952 -1.515588 -0.389847 -1.255033\n",
      "b  0.000000  0.000000  0.000000  0.000000  0.000000  0.000000  0.000000\n",
      "c  2.142757  1.103308  0.882974 -1.158478  0.584999  0.914835 -0.650656\n",
      "d  0.000000  0.000000  0.000000  0.000000  0.000000  0.000000  0.000000\n",
      "e  1.578641  0.247132  0.055108 -1.986813  2.616295  2.269033  1.011139\n",
      "f  1.178635 -0.704074  0.160020  0.010696 -1.199719 -0.676044 -0.359579\n",
      "g  0.000000  0.000000  0.000000  0.000000  0.000000  0.000000  0.000000\n",
      "h  1.003181  0.600334  0.267171  0.983408 -0.243323 -0.543802 -0.084523\n",
      "i  0.690352  0.901931 -0.295142 -0.228086 -1.084954 -2.004828 -0.331087\n",
      "j -0.201593  1.625852  0.814916  0.607407  1.182607  1.083237 -0.861298\n",
      "l -0.682934  0.160293 -0.646104  0.260996 -0.713302  0.610086  1.079601\n",
      "m  1.505942  1.354849 -0.885918  0.385428 -0.372555  0.498229 -0.389305\n"
     ]
    }
   ],
   "source": [
    "Tayo_2=Tayo.fillna(0)\n",
    "print(Tayo_2)\n",
    "\n"
   ]
  },
  {
   "cell_type": "code",
   "execution_count": 9,
   "metadata": {},
   "outputs": [
    {
     "data": {
      "text/html": [
       "<div>\n",
       "<style scoped>\n",
       "    .dataframe tbody tr th:only-of-type {\n",
       "        vertical-align: middle;\n",
       "    }\n",
       "\n",
       "    .dataframe tbody tr th {\n",
       "        vertical-align: top;\n",
       "    }\n",
       "\n",
       "    .dataframe thead th {\n",
       "        text-align: right;\n",
       "    }\n",
       "</style>\n",
       "<table border=\"1\" class=\"dataframe\">\n",
       "  <thead>\n",
       "    <tr style=\"text-align: right;\">\n",
       "      <th></th>\n",
       "      <th>stock1</th>\n",
       "      <th>stock2</th>\n",
       "      <th>stock3</th>\n",
       "    </tr>\n",
       "  </thead>\n",
       "  <tbody>\n",
       "    <tr>\n",
       "      <th>a</th>\n",
       "      <td>0.284157</td>\n",
       "      <td>0.423336</td>\n",
       "      <td>-0.245803</td>\n",
       "    </tr>\n",
       "    <tr>\n",
       "      <th>b</th>\n",
       "      <td>0.000000</td>\n",
       "      <td>0.000000</td>\n",
       "      <td>0.000000</td>\n",
       "    </tr>\n",
       "    <tr>\n",
       "      <th>c</th>\n",
       "      <td>-0.345223</td>\n",
       "      <td>-0.421007</td>\n",
       "      <td>-0.445266</td>\n",
       "    </tr>\n",
       "    <tr>\n",
       "      <th>d</th>\n",
       "      <td>0.000000</td>\n",
       "      <td>0.000000</td>\n",
       "      <td>0.000000</td>\n",
       "    </tr>\n",
       "    <tr>\n",
       "      <th>e</th>\n",
       "      <td>0.383908</td>\n",
       "      <td>-0.769364</td>\n",
       "      <td>-0.039848</td>\n",
       "    </tr>\n",
       "    <tr>\n",
       "      <th>f</th>\n",
       "      <td>1.691921</td>\n",
       "      <td>-1.003568</td>\n",
       "      <td>-0.222253</td>\n",
       "    </tr>\n",
       "    <tr>\n",
       "      <th>g</th>\n",
       "      <td>0.000000</td>\n",
       "      <td>0.000000</td>\n",
       "      <td>0.000000</td>\n",
       "    </tr>\n",
       "    <tr>\n",
       "      <th>h</th>\n",
       "      <td>0.361455</td>\n",
       "      <td>0.835433</td>\n",
       "      <td>-0.315920</td>\n",
       "    </tr>\n",
       "  </tbody>\n",
       "</table>\n",
       "</div>"
      ],
      "text/plain": [
       "     stock1    stock2    stock3\n",
       "a  0.284157  0.423336 -0.245803\n",
       "b  0.000000  0.000000  0.000000\n",
       "c -0.345223 -0.421007 -0.445266\n",
       "d  0.000000  0.000000  0.000000\n",
       "e  0.383908 -0.769364 -0.039848\n",
       "f  1.691921 -1.003568 -0.222253\n",
       "g  0.000000  0.000000  0.000000\n",
       "h  0.361455  0.835433 -0.315920"
      ]
     },
     "execution_count": 9,
     "metadata": {},
     "output_type": "execute_result"
    }
   ],
   "source": [
    "Tayo.replace(np.nan, 0 )"
   ]
  },
  {
   "cell_type": "code",
   "execution_count": 7,
   "metadata": {},
   "outputs": [
    {
     "data": {
      "text/html": [
       "<div>\n",
       "<style scoped>\n",
       "    .dataframe tbody tr th:only-of-type {\n",
       "        vertical-align: middle;\n",
       "    }\n",
       "\n",
       "    .dataframe tbody tr th {\n",
       "        vertical-align: top;\n",
       "    }\n",
       "\n",
       "    .dataframe thead th {\n",
       "        text-align: right;\n",
       "    }\n",
       "</style>\n",
       "<table border=\"1\" class=\"dataframe\">\n",
       "  <thead>\n",
       "    <tr style=\"text-align: right;\">\n",
       "      <th></th>\n",
       "      <th>stock1</th>\n",
       "      <th>stock2</th>\n",
       "      <th>stock3</th>\n",
       "    </tr>\n",
       "  </thead>\n",
       "  <tbody>\n",
       "    <tr>\n",
       "      <th>a</th>\n",
       "      <td>0.284157</td>\n",
       "      <td>0.423336</td>\n",
       "      <td>-0.245803</td>\n",
       "    </tr>\n",
       "    <tr>\n",
       "      <th>b</th>\n",
       "      <td>0.284157</td>\n",
       "      <td>0.423336</td>\n",
       "      <td>-0.245803</td>\n",
       "    </tr>\n",
       "    <tr>\n",
       "      <th>c</th>\n",
       "      <td>-0.345223</td>\n",
       "      <td>-0.421007</td>\n",
       "      <td>-0.445266</td>\n",
       "    </tr>\n",
       "    <tr>\n",
       "      <th>d</th>\n",
       "      <td>-0.345223</td>\n",
       "      <td>-0.421007</td>\n",
       "      <td>-0.445266</td>\n",
       "    </tr>\n",
       "    <tr>\n",
       "      <th>e</th>\n",
       "      <td>0.383908</td>\n",
       "      <td>-0.769364</td>\n",
       "      <td>-0.039848</td>\n",
       "    </tr>\n",
       "    <tr>\n",
       "      <th>f</th>\n",
       "      <td>1.691921</td>\n",
       "      <td>-1.003568</td>\n",
       "      <td>-0.222253</td>\n",
       "    </tr>\n",
       "    <tr>\n",
       "      <th>g</th>\n",
       "      <td>1.691921</td>\n",
       "      <td>-1.003568</td>\n",
       "      <td>-0.222253</td>\n",
       "    </tr>\n",
       "    <tr>\n",
       "      <th>h</th>\n",
       "      <td>0.361455</td>\n",
       "      <td>0.835433</td>\n",
       "      <td>-0.315920</td>\n",
       "    </tr>\n",
       "  </tbody>\n",
       "</table>\n",
       "</div>"
      ],
      "text/plain": [
       "     stock1    stock2    stock3\n",
       "a  0.284157  0.423336 -0.245803\n",
       "b  0.284157  0.423336 -0.245803\n",
       "c -0.345223 -0.421007 -0.445266\n",
       "d -0.345223 -0.421007 -0.445266\n",
       "e  0.383908 -0.769364 -0.039848\n",
       "f  1.691921 -1.003568 -0.222253\n",
       "g  1.691921 -1.003568 -0.222253\n",
       "h  0.361455  0.835433 -0.315920"
      ]
     },
     "execution_count": 7,
     "metadata": {},
     "output_type": "execute_result"
    }
   ],
   "source": [
    "\n",
    "\n",
    "Tayo.fillna(method='pad')\n",
    "\n",
    "\n"
   ]
  },
  {
   "cell_type": "code",
   "execution_count": 8,
   "metadata": {},
   "outputs": [
    {
     "data": {
      "text/html": [
       "<div>\n",
       "<style scoped>\n",
       "    .dataframe tbody tr th:only-of-type {\n",
       "        vertical-align: middle;\n",
       "    }\n",
       "\n",
       "    .dataframe tbody tr th {\n",
       "        vertical-align: top;\n",
       "    }\n",
       "\n",
       "    .dataframe thead th {\n",
       "        text-align: right;\n",
       "    }\n",
       "</style>\n",
       "<table border=\"1\" class=\"dataframe\">\n",
       "  <thead>\n",
       "    <tr style=\"text-align: right;\">\n",
       "      <th></th>\n",
       "      <th>stock1</th>\n",
       "      <th>stock2</th>\n",
       "      <th>stock3</th>\n",
       "    </tr>\n",
       "  </thead>\n",
       "  <tbody>\n",
       "    <tr>\n",
       "      <th>a</th>\n",
       "      <td>0.284157</td>\n",
       "      <td>0.423336</td>\n",
       "      <td>-0.245803</td>\n",
       "    </tr>\n",
       "    <tr>\n",
       "      <th>c</th>\n",
       "      <td>-0.345223</td>\n",
       "      <td>-0.421007</td>\n",
       "      <td>-0.445266</td>\n",
       "    </tr>\n",
       "    <tr>\n",
       "      <th>e</th>\n",
       "      <td>0.383908</td>\n",
       "      <td>-0.769364</td>\n",
       "      <td>-0.039848</td>\n",
       "    </tr>\n",
       "    <tr>\n",
       "      <th>f</th>\n",
       "      <td>1.691921</td>\n",
       "      <td>-1.003568</td>\n",
       "      <td>-0.222253</td>\n",
       "    </tr>\n",
       "    <tr>\n",
       "      <th>h</th>\n",
       "      <td>0.361455</td>\n",
       "      <td>0.835433</td>\n",
       "      <td>-0.315920</td>\n",
       "    </tr>\n",
       "  </tbody>\n",
       "</table>\n",
       "</div>"
      ],
      "text/plain": [
       "     stock1    stock2    stock3\n",
       "a  0.284157  0.423336 -0.245803\n",
       "c -0.345223 -0.421007 -0.445266\n",
       "e  0.383908 -0.769364 -0.039848\n",
       "f  1.691921 -1.003568 -0.222253\n",
       "h  0.361455  0.835433 -0.315920"
      ]
     },
     "execution_count": 8,
     "metadata": {},
     "output_type": "execute_result"
    }
   ],
   "source": [
    "Tayo.dropna()"
   ]
  },
  {
   "cell_type": "code",
   "execution_count": null,
   "metadata": {},
   "outputs": [],
   "source": []
  },
  {
   "cell_type": "code",
   "execution_count": 2,
   "metadata": {},
   "outputs": [
    {
     "name": "stdout",
     "output_type": "stream",
     "text": [
      "\n",
      "\n",
      "<<<<<<< First 5 records of 911 call  <<<<<<<\n",
      "\n",
      "\n",
      "         lat        lng                                               desc  \\\n",
      "0  40.297876 -75.581294  REINDEER CT & DEAD END;  NEW HANOVER; Station ...   \n",
      "1  40.258061 -75.264680  BRIAR PATH & WHITEMARSH LN;  HATFIELD TOWNSHIP...   \n",
      "2  40.121182 -75.351975  HAWS AVE; NORRISTOWN; 2015-12-10 @ 14:39:21-St...   \n",
      "3  40.116153 -75.343513  AIRY ST & SWEDE ST;  NORRISTOWN; Station 308A;...   \n",
      "4  40.251492 -75.603350  CHERRYWOOD CT & DEAD END;  LOWER POTTSGROVE; S...   \n",
      "\n",
      "       zip                    title            timeStamp                twp  \\\n",
      "0  19525.0   EMS: BACK PAINS/INJURY  2015-12-10 17:40:00        NEW HANOVER   \n",
      "1  19446.0  EMS: DIABETIC EMERGENCY  2015-12-10 17:40:00  HATFIELD TOWNSHIP   \n",
      "2  19401.0      Fire: GAS-ODOR/LEAK  2015-12-10 17:40:00         NORRISTOWN   \n",
      "3  19401.0   EMS: CARDIAC EMERGENCY  2015-12-10 17:40:01         NORRISTOWN   \n",
      "4      NaN           EMS: DIZZINESS  2015-12-10 17:40:01   LOWER POTTSGROVE   \n",
      "\n",
      "                         addr  e  \n",
      "0      REINDEER CT & DEAD END  1  \n",
      "1  BRIAR PATH & WHITEMARSH LN  1  \n",
      "2                    HAWS AVE  1  \n",
      "3          AIRY ST & SWEDE ST  1  \n",
      "4    CHERRYWOOD CT & DEAD END  1  \n"
     ]
    }
   ],
   "source": [
    "import pandas as pd\n",
    "import numpy as np\n",
    "call = pd.read_csv(\"911.csv\")\n",
    "print (\"\\n\\n<<<<<<< First 5 records of 911 call  <<<<<<<\\n\\n\" )\n",
    "print (call.head())"
   ]
  },
  {
   "cell_type": "code",
   "execution_count": 9,
   "metadata": {},
   "outputs": [
    {
     "name": "stdout",
     "output_type": "stream",
     "text": [
      "<bound method NDFrame.tail of              lat        lng  \\\n",
      "0      40.297876 -75.581294   \n",
      "1      40.258061 -75.264680   \n",
      "2      40.121182 -75.351975   \n",
      "3      40.116153 -75.343513   \n",
      "4      40.251492 -75.603350   \n",
      "...          ...        ...   \n",
      "99487  40.132869 -75.333515   \n",
      "99488  40.006974 -75.289080   \n",
      "99489  40.115429 -75.334679   \n",
      "99490  40.186431 -75.192555   \n",
      "99491  40.207055 -75.317952   \n",
      "\n",
      "                                                    desc      zip  \\\n",
      "0      REINDEER CT & DEAD END;  NEW HANOVER; Station ...  19525.0   \n",
      "1      BRIAR PATH & WHITEMARSH LN;  HATFIELD TOWNSHIP...  19446.0   \n",
      "2      HAWS AVE; NORRISTOWN; 2015-12-10 @ 14:39:21-St...  19401.0   \n",
      "3      AIRY ST & SWEDE ST;  NORRISTOWN; Station 308A;...  19401.0   \n",
      "4      CHERRYWOOD CT & DEAD END;  LOWER POTTSGROVE; S...      NaN   \n",
      "...                                                  ...      ...   \n",
      "99487  MARKLEY ST & W LOGAN ST; NORRISTOWN; 2016-08-2...  19401.0   \n",
      "99488  LANCASTER AVE & RITTENHOUSE PL; LOWER MERION; ...  19003.0   \n",
      "99489  CHESTNUT ST & WALNUT ST;  NORRISTOWN; Station ...  19401.0   \n",
      "99490  WELSH RD & WEBSTER LN;  HORSHAM; Station 352; ...  19002.0   \n",
      "99491  MORRIS RD & S BROAD ST; UPPER GWYNEDD; 2016-08...  19446.0   \n",
      "\n",
      "                             title            timeStamp                twp  \\\n",
      "0           EMS: BACK PAINS/INJURY  2015-12-10 17:40:00        NEW HANOVER   \n",
      "1          EMS: DIABETIC EMERGENCY  2015-12-10 17:40:00  HATFIELD TOWNSHIP   \n",
      "2              Fire: GAS-ODOR/LEAK  2015-12-10 17:40:00         NORRISTOWN   \n",
      "3           EMS: CARDIAC EMERGENCY  2015-12-10 17:40:01         NORRISTOWN   \n",
      "4                   EMS: DIZZINESS  2015-12-10 17:40:01   LOWER POTTSGROVE   \n",
      "...                            ...                  ...                ...   \n",
      "99487  Traffic: VEHICLE ACCIDENT -  2016-08-24 11:06:00         NORRISTOWN   \n",
      "99488  Traffic: VEHICLE ACCIDENT -  2016-08-24 11:07:02       LOWER MERION   \n",
      "99489             EMS: FALL VICTIM  2016-08-24 11:12:00         NORRISTOWN   \n",
      "99490         EMS: NAUSEA/VOMITING  2016-08-24 11:17:01            HORSHAM   \n",
      "99491  Traffic: VEHICLE ACCIDENT -  2016-08-24 11:17:02      UPPER GWYNEDD   \n",
      "\n",
      "                                 addr  e  \n",
      "0              REINDEER CT & DEAD END  1  \n",
      "1          BRIAR PATH & WHITEMARSH LN  1  \n",
      "2                            HAWS AVE  1  \n",
      "3                  AIRY ST & SWEDE ST  1  \n",
      "4            CHERRYWOOD CT & DEAD END  1  \n",
      "...                               ... ..  \n",
      "99487         MARKLEY ST & W LOGAN ST  1  \n",
      "99488  LANCASTER AVE & RITTENHOUSE PL  1  \n",
      "99489         CHESTNUT ST & WALNUT ST  1  \n",
      "99490           WELSH RD & WEBSTER LN  1  \n",
      "99491          MORRIS RD & S BROAD ST  1  \n",
      "\n",
      "[99492 rows x 9 columns]>\n",
      "             lat        lng  \\\n",
      "0      40.297876 -75.581294   \n",
      "1      40.258061 -75.264680   \n",
      "2      40.121182 -75.351975   \n",
      "3      40.116153 -75.343513   \n",
      "4      40.251492 -75.603350   \n",
      "...          ...        ...   \n",
      "99487  40.132869 -75.333515   \n",
      "99488  40.006974 -75.289080   \n",
      "99489  40.115429 -75.334679   \n",
      "99490  40.186431 -75.192555   \n",
      "99491  40.207055 -75.317952   \n",
      "\n",
      "                                                    desc      zip  \\\n",
      "0      REINDEER CT & DEAD END;  NEW HANOVER; Station ...  19525.0   \n",
      "1      BRIAR PATH & WHITEMARSH LN;  HATFIELD TOWNSHIP...  19446.0   \n",
      "2      HAWS AVE; NORRISTOWN; 2015-12-10 @ 14:39:21-St...  19401.0   \n",
      "3      AIRY ST & SWEDE ST;  NORRISTOWN; Station 308A;...  19401.0   \n",
      "4      CHERRYWOOD CT & DEAD END;  LOWER POTTSGROVE; S...      NaN   \n",
      "...                                                  ...      ...   \n",
      "99487  MARKLEY ST & W LOGAN ST; NORRISTOWN; 2016-08-2...  19401.0   \n",
      "99488  LANCASTER AVE & RITTENHOUSE PL; LOWER MERION; ...  19003.0   \n",
      "99489  CHESTNUT ST & WALNUT ST;  NORRISTOWN; Station ...  19401.0   \n",
      "99490  WELSH RD & WEBSTER LN;  HORSHAM; Station 352; ...  19002.0   \n",
      "99491  MORRIS RD & S BROAD ST; UPPER GWYNEDD; 2016-08...  19446.0   \n",
      "\n",
      "                             title            timeStamp                twp  \\\n",
      "0           EMS: BACK PAINS/INJURY  2015-12-10 17:40:00        NEW HANOVER   \n",
      "1          EMS: DIABETIC EMERGENCY  2015-12-10 17:40:00  HATFIELD TOWNSHIP   \n",
      "2              Fire: GAS-ODOR/LEAK  2015-12-10 17:40:00         NORRISTOWN   \n",
      "3           EMS: CARDIAC EMERGENCY  2015-12-10 17:40:01         NORRISTOWN   \n",
      "4                   EMS: DIZZINESS  2015-12-10 17:40:01   LOWER POTTSGROVE   \n",
      "...                            ...                  ...                ...   \n",
      "99487  Traffic: VEHICLE ACCIDENT -  2016-08-24 11:06:00         NORRISTOWN   \n",
      "99488  Traffic: VEHICLE ACCIDENT -  2016-08-24 11:07:02       LOWER MERION   \n",
      "99489             EMS: FALL VICTIM  2016-08-24 11:12:00         NORRISTOWN   \n",
      "99490         EMS: NAUSEA/VOMITING  2016-08-24 11:17:01            HORSHAM   \n",
      "99491  Traffic: VEHICLE ACCIDENT -  2016-08-24 11:17:02      UPPER GWYNEDD   \n",
      "\n",
      "                                 addr  e  \n",
      "0              REINDEER CT & DEAD END  1  \n",
      "1          BRIAR PATH & WHITEMARSH LN  1  \n",
      "2                            HAWS AVE  1  \n",
      "3                  AIRY ST & SWEDE ST  1  \n",
      "4            CHERRYWOOD CT & DEAD END  1  \n",
      "...                               ... ..  \n",
      "99487         MARKLEY ST & W LOGAN ST  1  \n",
      "99488  LANCASTER AVE & RITTENHOUSE PL  1  \n",
      "99489         CHESTNUT ST & WALNUT ST  1  \n",
      "99490           WELSH RD & WEBSTER LN  1  \n",
      "99491          MORRIS RD & S BROAD ST  1  \n",
      "\n",
      "[99492 rows x 9 columns]\n"
     ]
    }
   ],
   "source": [
    "print(call.tail)\n",
    "print(call)"
   ]
  },
  {
   "cell_type": "code",
   "execution_count": 17,
   "metadata": {},
   "outputs": [
    {
     "data": {
      "text/plain": [
       "<bound method NDFrame.describe of          lat        lng                                               desc  \\\n",
       "0  40.297876 -75.581294  REINDEER CT & DEAD END;  NEW HANOVER; Station ...   \n",
       "1  40.258061 -75.264680  BRIAR PATH & WHITEMARSH LN;  HATFIELD TOWNSHIP...   \n",
       "2  40.121182 -75.351975  HAWS AVE; NORRISTOWN; 2015-12-10 @ 14:39:21-St...   \n",
       "3  40.116153 -75.343513  AIRY ST & SWEDE ST;  NORRISTOWN; Station 308A;...   \n",
       "4  40.251492 -75.603350  CHERRYWOOD CT & DEAD END;  LOWER POTTSGROVE; S...   \n",
       "5  40.253473 -75.283245  CANNON AVE & W 9TH ST;  LANSDALE; Station 345;...   \n",
       "6  40.182111 -75.127795  LAUREL AVE & OAKDALE AVE;  HORSHAM; Station 35...   \n",
       "7  40.217286 -75.405182  COLLEGEVILLE RD & LYWISKI RD;  SKIPPACK; Stati...   \n",
       "8  40.289027 -75.399590  MAIN ST & OLD SUMNEYTOWN PIKE;  LOWER SALFORD;...   \n",
       "9  40.102398 -75.291458  BLUEROUTE  & RAMP I476 NB TO CHEMICAL RD; PLYM...   \n",
       "\n",
       "       zip                        title            timeStamp  \\\n",
       "0  19525.0       EMS: BACK PAINS/INJURY  2015-12-10 17:40:00   \n",
       "1  19446.0      EMS: DIABETIC EMERGENCY  2015-12-10 17:40:00   \n",
       "2  19401.0          Fire: GAS-ODOR/LEAK  2015-12-10 17:40:00   \n",
       "3  19401.0       EMS: CARDIAC EMERGENCY  2015-12-10 17:40:01   \n",
       "4      NaN               EMS: DIZZINESS  2015-12-10 17:40:01   \n",
       "5  19446.0             EMS: HEAD INJURY  2015-12-10 17:40:01   \n",
       "6  19044.0         EMS: NAUSEA/VOMITING  2015-12-10 17:40:01   \n",
       "7  19426.0   EMS: RESPIRATORY EMERGENCY  2015-12-10 17:40:01   \n",
       "8  19438.0        EMS: SYNCOPAL EPISODE  2015-12-10 17:40:01   \n",
       "9  19462.0  Traffic: VEHICLE ACCIDENT -  2015-12-10 17:40:01   \n",
       "\n",
       "                 twp                                      addr  e  \n",
       "0        NEW HANOVER                    REINDEER CT & DEAD END  1  \n",
       "1  HATFIELD TOWNSHIP                BRIAR PATH & WHITEMARSH LN  1  \n",
       "2         NORRISTOWN                                  HAWS AVE  1  \n",
       "3         NORRISTOWN                        AIRY ST & SWEDE ST  1  \n",
       "4   LOWER POTTSGROVE                  CHERRYWOOD CT & DEAD END  1  \n",
       "5           LANSDALE                     CANNON AVE & W 9TH ST  1  \n",
       "6            HORSHAM                  LAUREL AVE & OAKDALE AVE  1  \n",
       "7           SKIPPACK              COLLEGEVILLE RD & LYWISKI RD  1  \n",
       "8      LOWER SALFORD             MAIN ST & OLD SUMNEYTOWN PIKE  1  \n",
       "9           PLYMOUTH  BLUEROUTE  & RAMP I476 NB TO CHEMICAL RD  1  >"
      ]
     },
     "execution_count": 17,
     "metadata": {},
     "output_type": "execute_result"
    }
   ],
   "source": [
    "call = pd.read_csv(\"911.csv\", nrows=10,)\n",
    "call.describe\n",
    "\n"
   ]
  },
  {
   "cell_type": "code",
   "execution_count": 28,
   "metadata": {},
   "outputs": [
    {
     "name": "stdout",
     "output_type": "stream",
     "text": [
      "             timeStamp                        title                twp\n",
      "0  2015-12-10 17:40:00       EMS: BACK PAINS/INJURY        NEW HANOVER\n",
      "1  2015-12-10 17:40:00      EMS: DIABETIC EMERGENCY  HATFIELD TOWNSHIP\n",
      "2  2015-12-10 17:40:00          Fire: GAS-ODOR/LEAK         NORRISTOWN\n",
      "3  2015-12-10 17:40:01       EMS: CARDIAC EMERGENCY         NORRISTOWN\n",
      "4  2015-12-10 17:40:01               EMS: DIZZINESS   LOWER POTTSGROVE\n",
      "5  2015-12-10 17:40:01             EMS: HEAD INJURY           LANSDALE\n",
      "6  2015-12-10 17:40:01         EMS: NAUSEA/VOMITING            HORSHAM\n",
      "7  2015-12-10 17:40:01   EMS: RESPIRATORY EMERGENCY           SKIPPACK\n",
      "8  2015-12-10 17:40:01        EMS: SYNCOPAL EPISODE      LOWER SALFORD\n",
      "9  2015-12-10 17:40:01  Traffic: VEHICLE ACCIDENT -           PLYMOUTH\n"
     ]
    }
   ],
   "source": [
    "me=call[['timeStamp','title','twp']]\n",
    "print(me)"
   ]
  },
  {
   "cell_type": "code",
   "execution_count": 30,
   "metadata": {},
   "outputs": [
    {
     "name": "stdout",
     "output_type": "stream",
     "text": [
      "\n",
      "\n",
      "<<<<<<< First 5 records of 911 call  <<<<<<<\n",
      "\n",
      "\n",
      "         lat        lng                                               desc  \\\n",
      "0  40.297876 -75.581294  REINDEER CT & DEAD END;  NEW HANOVER; Station ...   \n",
      "1  40.258061 -75.264680  BRIAR PATH & WHITEMARSH LN;  HATFIELD TOWNSHIP...   \n",
      "2  40.121182 -75.351975  HAWS AVE; NORRISTOWN; 2015-12-10 @ 14:39:21-St...   \n",
      "3  40.116153 -75.343513  AIRY ST & SWEDE ST;  NORRISTOWN; Station 308A;...   \n",
      "4  40.251492 -75.603350  CHERRYWOOD CT & DEAD END;  LOWER POTTSGROVE; S...   \n",
      "\n",
      "       zip                    title            timeStamp                twp  \\\n",
      "0  19525.0   EMS: BACK PAINS/INJURY  2015-12-10 17:40:00        NEW HANOVER   \n",
      "1  19446.0  EMS: DIABETIC EMERGENCY  2015-12-10 17:40:00  HATFIELD TOWNSHIP   \n",
      "2  19401.0      Fire: GAS-ODOR/LEAK  2015-12-10 17:40:00         NORRISTOWN   \n",
      "3  19401.0   EMS: CARDIAC EMERGENCY  2015-12-10 17:40:01         NORRISTOWN   \n",
      "4      NaN           EMS: DIZZINESS  2015-12-10 17:40:01   LOWER POTTSGROVE   \n",
      "\n",
      "                         addr  e  \n",
      "0      REINDEER CT & DEAD END  1  \n",
      "1  BRIAR PATH & WHITEMARSH LN  1  \n",
      "2                    HAWS AVE  1  \n",
      "3          AIRY ST & SWEDE ST  1  \n",
      "4    CHERRYWOOD CT & DEAD END  1  \n",
      "                             title\n",
      "0           EMS: BACK PAINS/INJURY\n",
      "1          EMS: DIABETIC EMERGENCY\n",
      "2              Fire: GAS-ODOR/LEAK\n",
      "3           EMS: CARDIAC EMERGENCY\n",
      "4                   EMS: DIZZINESS\n",
      "...                            ...\n",
      "99487  Traffic: VEHICLE ACCIDENT -\n",
      "99488  Traffic: VEHICLE ACCIDENT -\n",
      "99489             EMS: FALL VICTIM\n",
      "99490         EMS: NAUSEA/VOMITING\n",
      "99491  Traffic: VEHICLE ACCIDENT -\n",
      "\n",
      "[99492 rows x 1 columns]\n"
     ]
    }
   ],
   "source": [
    "import pandas as pd\n",
    "import numpy as np\n",
    "call = pd.read_csv(\"911.csv\")\n",
    "print (\"\\n\\n<<<<<<< First 5 records of 911 call  <<<<<<<\\n\\n\" )\n",
    "print (call.head())\n",
    "accident=call[['title']]\n",
    "accident.count()\n",
    "print(accident)"
   ]
  },
  {
   "cell_type": "code",
   "execution_count": 31,
   "metadata": {},
   "outputs": [
    {
     "name": "stdout",
     "output_type": "stream",
     "text": [
      "                             title\n",
      "0           EMS: BACK PAINS/INJURY\n",
      "1          EMS: DIABETIC EMERGENCY\n",
      "2              Fire: GAS-ODOR/LEAK\n",
      "3           EMS: CARDIAC EMERGENCY\n",
      "4                   EMS: DIZZINESS\n",
      "...                            ...\n",
      "99487  Traffic: VEHICLE ACCIDENT -\n",
      "99488  Traffic: VEHICLE ACCIDENT -\n",
      "99489             EMS: FALL VICTIM\n",
      "99490         EMS: NAUSEA/VOMITING\n",
      "99491  Traffic: VEHICLE ACCIDENT -\n",
      "\n",
      "[99492 rows x 1 columns]\n"
     ]
    }
   ],
   "source": [
    "accident=call[['title']]\n",
    "accident.count()\n",
    "print(accident)"
   ]
  },
  {
   "cell_type": "code",
   "execution_count": 42,
   "metadata": {},
   "outputs": [
    {
     "data": {
      "text/plain": [
       "2015-12-10 17:40:01    8\n",
       "2016-04-21 17:57:01    7\n",
       "2015-12-23 14:12:01    7\n",
       "2016-02-14 14:02:01    6\n",
       "2016-03-09 16:57:01    6\n",
       "2016-02-04 08:22:01    6\n",
       "2016-04-06 17:17:01    6\n",
       "2016-04-12 13:22:02    6\n",
       "2016-03-08 13:42:01    6\n",
       "2016-07-31 12:42:01    6\n",
       "Name: timeStamp, dtype: int64"
      ]
     },
     "execution_count": 42,
     "metadata": {},
     "output_type": "execute_result"
    }
   ],
   "source": [
    "call['timeStamp'].value_counts().head(10)"
   ]
  },
  {
   "cell_type": "code",
   "execution_count": 45,
   "metadata": {},
   "outputs": [
    {
     "data": {
      "text/plain": [
       "19401.0    6979\n",
       "19464.0    6643\n",
       "19403.0    4854\n",
       "19446.0    4748\n",
       "19406.0    3174\n",
       "19002.0    3050\n",
       "19468.0    2990\n",
       "19454.0    2781\n",
       "19090.0    2635\n",
       "19038.0    2578\n",
       "Name: zip, dtype: int64"
      ]
     },
     "execution_count": 45,
     "metadata": {},
     "output_type": "execute_result"
    }
   ],
   "source": [
    "\n",
    "call['zip'].value_counts().head(10)\n"
   ]
  },
  {
   "cell_type": "code",
   "execution_count": 43,
   "metadata": {},
   "outputs": [
    {
     "data": {
      "text/plain": [
       "LOWER MERION        8443\n",
       "ABINGTON            5977\n",
       "NORRISTOWN          5890\n",
       "UPPER MERION        5227\n",
       "CHELTENHAM          4575\n",
       "POTTSTOWN           4146\n",
       "UPPER MORELAND      3434\n",
       "LOWER PROVIDENCE    3225\n",
       "PLYMOUTH            3158\n",
       "HORSHAM             3003\n",
       "Name: twp, dtype: int64"
      ]
     },
     "execution_count": 43,
     "metadata": {},
     "output_type": "execute_result"
    }
   ],
   "source": [
    "call['twp'].value_counts().head(10)"
   ]
  },
  {
   "cell_type": "code",
   "execution_count": 46,
   "metadata": {},
   "outputs": [
    {
     "data": {
      "text/plain": [
       "110"
      ]
     },
     "execution_count": 46,
     "metadata": {},
     "output_type": "execute_result"
    }
   ],
   "source": [
    "call['title'].nunique()"
   ]
  },
  {
   "cell_type": "code",
   "execution_count": 41,
   "metadata": {},
   "outputs": [
    {
     "data": {
      "text/plain": [
       "Traffic: VEHICLE ACCIDENT -    23066\n",
       "Traffic: DISABLED VEHICLE -     7702\n",
       "Fire: FIRE ALARM                5496\n",
       "EMS: RESPIRATORY EMERGENCY      5112\n",
       "EMS: CARDIAC EMERGENCY          5012\n",
       "EMS: FALL VICTIM                4863\n",
       "EMS: VEHICLE ACCIDENT           3935\n",
       "Traffic: ROAD OBSTRUCTION -     3144\n",
       "EMS: SUBJECT IN PAIN            2687\n",
       "EMS: HEAD INJURY                2631\n",
       "Name: title, dtype: int64"
      ]
     },
     "execution_count": 41,
     "metadata": {},
     "output_type": "execute_result"
    }
   ],
   "source": [
    "call['title'].value_counts().head(10)\n"
   ]
  },
  {
   "cell_type": "code",
   "execution_count": 38,
   "metadata": {},
   "outputs": [],
   "source": [
    "call['Reason'] =call['title'].apply(lambda title: title.split(':')[0])\n"
   ]
  },
  {
   "cell_type": "code",
   "execution_count": 39,
   "metadata": {},
   "outputs": [
    {
     "data": {
      "text/plain": [
       "EMS        48877\n",
       "Traffic    35695\n",
       "Fire       14920\n",
       "Name: Reason, dtype: int64"
      ]
     },
     "execution_count": 39,
     "metadata": {},
     "output_type": "execute_result"
    }
   ],
   "source": [
    "call['Reason'].value_counts()"
   ]
  },
  {
   "cell_type": "code",
   "execution_count": 47,
   "metadata": {},
   "outputs": [],
   "source": [
    "import matplotlib.pyplot as plt\n",
    "import seaborn as sns\n",
    "sns.set_style('whitegrid')\n",
    "%matplotlib inline"
   ]
  },
  {
   "cell_type": "code",
   "execution_count": 52,
   "metadata": {},
   "outputs": [
    {
     "data": {
      "text/plain": [
       "<AxesSubplot:xlabel='Reason', ylabel='count'>"
      ]
     },
     "execution_count": 52,
     "metadata": {},
     "output_type": "execute_result"
    },
    {
     "data": {
      "image/png": "[encoded data removed]",
      "text/plain": [
       "<Figure size 432x288 with 1 Axes>"
      ]
     },
     "metadata": {
      "needs_background": "light"
     },
     "output_type": "display_data"
    }
   ],
   "source": [
    "sns.countplot( x='Reason',data=call,palette='viridis')"
   ]
  },
  {
   "cell_type": "code",
   "execution_count": 53,
   "metadata": {},
   "outputs": [
    {
     "data": {
      "text/plain": [
       "str"
      ]
     },
     "execution_count": 53,
     "metadata": {},
     "output_type": "execute_result"
    }
   ],
   "source": [
    "type(call['timeStamp'].iloc[0])\n"
   ]
  },
  {
   "cell_type": "code",
   "execution_count": 54,
   "metadata": {},
   "outputs": [],
   "source": [
    "call['timeStamp'] = pd.to_datetime(call['timeStamp'])"
   ]
  },
  {
   "cell_type": "code",
   "execution_count": 55,
   "metadata": {},
   "outputs": [],
   "source": [
    "call['Hour'] = call['timeStamp'].apply(lambda time: time.hour)\n",
    "call['Month'] = call['timeStamp'].apply(lambda time: time.month)\n",
    "call['Day of Week'] = call['timeStamp'].apply(lambda time: time.dayofweek)"
   ]
  },
  {
   "cell_type": "code",
   "execution_count": 56,
   "metadata": {},
   "outputs": [],
   "source": []
  },
  {
   "cell_type": "code",
   "execution_count": 57,
   "metadata": {},
   "outputs": [],
   "source": [
    "call['Day of Week'] = call['Day of Week'].map(dmap)"
   ]
  },
  {
   "cell_type": "code",
   "execution_count": 64,
   "metadata": {},
   "outputs": [
    {
     "data": {
      "text/plain": [
       "<matplotlib.legend.Legend at 0x1b8ee0b1fd0>"
      ]
     },
     "execution_count": 64,
     "metadata": {},
     "output_type": "execute_result"
    },
    {
     "data": {
      "image/png": "[encoded data removed]",
      "text/plain": [
       "<Figure size 432x288 with 1 Axes>"
      ]
     },
     "metadata": {
      "needs_background": "light"
     },
     "output_type": "display_data"
    }
   ],
   "source": [
    "sns.countplot(x='Hour',data=call, hue='Reason')\n",
    "\n",
    "# To relocate the legend\n",
    "plt.legend(bbox_to_anchor=(1.05, 1), loc=2, borderaxespad=0.)"
   ]
  },
  {
   "cell_type": "code",
   "execution_count": 66,
   "metadata": {},
   "outputs": [
    {
     "data": {
      "text/plain": [
       "<matplotlib.legend.Legend at 0x1b8ef1970d0>"
      ]
     },
     "execution_count": 66,
     "metadata": {},
     "output_type": "execute_result"
    },
    {
     "data": {
      "image/png": "[encoded data removed]",
      "text/plain": [
       "<Figure size 432x288 with 1 Axes>"
      ]
     },
     "metadata": {
      "needs_background": "light"
     },
     "output_type": "display_data"
    }
   ],
   "source": [
    "sns.countplot(x='Day of Week',data=call,hue='Reason')\n",
    "\n",
    "# To relocate the legend\n",
    "plt.legend(bbox_to_anchor=(1.05, 1), loc=2, borderaxespad=0.)\n",
    "\n"
   ]
  },
  {
   "cell_type": "code",
   "execution_count": 67,
   "metadata": {},
   "outputs": [
    {
     "data": {
      "text/plain": [
       "<matplotlib.legend.Legend at 0x1b8ee0c2be0>"
      ]
     },
     "execution_count": 67,
     "metadata": {},
     "output_type": "execute_result"
    },
    {
     "data": {
      "image/png": "[encoded data removed]",
      "text/plain": [
       "<Figure size 432x288 with 1 Axes>"
      ]
     },
     "metadata": {
      "needs_background": "light"
     },
     "output_type": "display_data"
    }
   ],
   "source": [
    "sns.countplot(x='Month',data=call,hue='Reason')\n",
    "\n",
    "# To relocate the legend\n",
    "plt.legend(bbox_to_anchor=(1.05, 1), loc=2, borderaxespad=0.)"
   ]
  },
  {
   "cell_type": "code",
   "execution_count": null,
   "metadata": {},
   "outputs": [],
   "source": []
  },
  {
   "cell_type": "code",
   "execution_count": null,
   "metadata": {},
   "outputs": [],
   "source": []
  },
  {
   "cell_type": "code",
   "execution_count": null,
   "metadata": {},
   "outputs": [],
   "source": []
  },
  {
   "cell_type": "code",
   "execution_count": null,
   "metadata": {},
   "outputs": [],
   "source": []
  },
  {
   "cell_type": "code",
   "execution_count": null,
   "metadata": {},
   "outputs": [],
   "source": []
  },
  {
   "cell_type": "code",
   "execution_count": null,
   "metadata": {},
   "outputs": [],
   "source": []
  },
  {
   "cell_type": "code",
   "execution_count": null,
   "metadata": {},
   "outputs": [],
   "source": []
  }
 ],
 "metadata": {
  "interpreter": {
   "hash": "ad2bdc8ecc057115af97d19610ffacc2b4e99fae6737bb82f5d7fb13d2f2c186"
  },
  "kernelspec": {
   "display_name": "Python 3.9.7 ('base')",
   "language": "python",
   "name": "python3"
  },
  "language_info": {
   "codemirror_mode": {
    "name": "ipython",
    "version": 3
   },
   "file_extension": ".py",
   "mimetype": "text/x-python",
   "name": "python",
   "nbconvert_exporter": "python",
   "pygments_lexer": "ipython3",
   "version": "3.9.7"
  },
  "orig_nbformat": 4
 },
 "nbformat": 4,
 "nbformat_minor": 2
}
